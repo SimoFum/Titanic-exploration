{
 "cells": [
  {
   "cell_type": "markdown",
   "metadata": {
    "collapsed": true
   },
   "source": [
    "# 1) Data exploration"
   ]
  },
  {
   "cell_type": "code",
   "execution_count": 38,
   "metadata": {
    "collapsed": false
   },
   "outputs": [],
   "source": [
    "import pandas as pd\n",
    "import numpy as np"
   ]
  },
  {
   "cell_type": "code",
   "execution_count": 39,
   "metadata": {
    "collapsed": false
   },
   "outputs": [
    {
     "name": "stdout",
     "output_type": "stream",
     "text": [
      "   PassengerId  Survived  Pclass  \\\n",
      "0            1         0       3   \n",
      "1            2         1       1   \n",
      "2            3         1       3   \n",
      "3            4         1       1   \n",
      "4            5         0       3   \n",
      "\n",
      "                                                Name     Sex   Age  SibSp  \\\n",
      "0                            Braund, Mr. Owen Harris    male  22.0      1   \n",
      "1  Cumings, Mrs. John Bradley (Florence Briggs Th...  female  38.0      1   \n",
      "2                             Heikkinen, Miss. Laina  female  26.0      0   \n",
      "3       Futrelle, Mrs. Jacques Heath (Lily May Peel)  female  35.0      1   \n",
      "4                           Allen, Mr. William Henry    male  35.0      0   \n",
      "\n",
      "   Parch            Ticket     Fare Cabin Embarked  \n",
      "0      0         A/5 21171   7.2500   NaN        S  \n",
      "1      0          PC 17599  71.2833   C85        C  \n",
      "2      0  STON/O2. 3101282   7.9250   NaN        S  \n",
      "3      0            113803  53.1000  C123        S  \n",
      "4      0            373450   8.0500   NaN        S  \n",
      "---------------\n",
      "TRAIN SET\n",
      "---------------\n",
      "PassengerId      0\n",
      "Survived         0\n",
      "Pclass           0\n",
      "Name             0\n",
      "Sex              0\n",
      "Age            177\n",
      "SibSp            0\n",
      "Parch            0\n",
      "Ticket           0\n",
      "Fare             0\n",
      "Cabin          687\n",
      "Embarked         2\n",
      "dtype: int64\n",
      "---------------\n",
      "TEST SET\n",
      "---------------\n",
      "PassengerId      0\n",
      "Pclass           0\n",
      "Name             0\n",
      "Sex              0\n",
      "Age             86\n",
      "SibSp            0\n",
      "Parch            0\n",
      "Ticket           0\n",
      "Fare             1\n",
      "Cabin          327\n",
      "Embarked         0\n",
      "dtype: int64\n",
      "---------------\n",
      "       PassengerId    Survived      Pclass         Age       SibSp  \\\n",
      "count   891.000000  891.000000  891.000000  714.000000  891.000000   \n",
      "mean    446.000000    0.383838    2.308642   29.699118    0.523008   \n",
      "std     257.353842    0.486592    0.836071   14.526497    1.102743   \n",
      "min       1.000000    0.000000    1.000000    0.420000    0.000000   \n",
      "25%     223.500000    0.000000    2.000000         NaN    0.000000   \n",
      "50%     446.000000    0.000000    3.000000         NaN    0.000000   \n",
      "75%     668.500000    1.000000    3.000000         NaN    1.000000   \n",
      "max     891.000000    1.000000    3.000000   80.000000    8.000000   \n",
      "\n",
      "            Parch        Fare  \n",
      "count  891.000000  891.000000  \n",
      "mean     0.381594   32.204208  \n",
      "std      0.806057   49.693429  \n",
      "min      0.000000    0.000000  \n",
      "25%      0.000000    7.910400  \n",
      "50%      0.000000   14.454200  \n",
      "75%      0.000000   31.000000  \n",
      "max      6.000000  512.329200  \n",
      "---------------\n",
      "<class 'pandas.core.frame.DataFrame'>\n",
      "RangeIndex: 891 entries, 0 to 890\n",
      "Data columns (total 12 columns):\n",
      "PassengerId    891 non-null int64\n",
      "Survived       891 non-null int64\n",
      "Pclass         891 non-null int64\n",
      "Name           891 non-null object\n",
      "Sex            891 non-null object\n",
      "Age            714 non-null float64\n",
      "SibSp          891 non-null int64\n",
      "Parch          891 non-null int64\n",
      "Ticket         891 non-null object\n",
      "Fare           891 non-null float64\n",
      "Cabin          204 non-null object\n",
      "Embarked       889 non-null object\n",
      "dtypes: float64(2), int64(5), object(5)\n",
      "memory usage: 83.6+ KB\n",
      "None\n"
     ]
    },
    {
     "name": "stderr",
     "output_type": "stream",
     "text": [
      "C:\\Users\\simon\\Anaconda3\\lib\\site-packages\\numpy\\lib\\function_base.py:3834: RuntimeWarning: Invalid value encountered in percentile\n",
      "  RuntimeWarning)\n"
     ]
    }
   ],
   "source": [
    "train_data = pd.read_csv('../Data/train.csv', sep = \",\")\n",
    "test_data = pd.read_csv('../Data/test.csv', sep = \",\")\n",
    "print(train_data.head())\n",
    "print('---------------')\n",
    "print('TRAIN SET')\n",
    "print('---------------')\n",
    "print(train_data.isnull().sum())\n",
    "print('---------------')\n",
    "print('TEST SET')\n",
    "print('---------------')\n",
    "print(test_data.isnull().sum())\n",
    "print('---------------')\n",
    "print(train_data.describe())\n",
    "print('---------------')\n",
    "print(train_data.info())"
   ]
  },
  {
   "cell_type": "code",
   "execution_count": 40,
   "metadata": {
    "collapsed": false,
    "scrolled": true
   },
   "outputs": [
    {
     "name": "stdout",
     "output_type": "stream",
     "text": [
      "        PassengerId  Survived  Pclass       Age  SibSp  Parch        Fare\n",
      "Sex                                                                      \n",
      "female       135343       233     678   7286.00    218    204  13966.6628\n",
      "male         262043       109    1379  13919.17    248    136  14727.2865\n",
      "Sex\n",
      "female    314\n",
      "male      577\n",
      "dtype: int64\n",
      "Sex\n",
      "female    0.74\n",
      "male      0.19\n",
      "dtype: float64\n"
     ]
    }
   ],
   "source": [
    "# Survived by sex\n",
    "Survived = train_data.groupby('Sex').sum()\n",
    "Total = train_data.groupby('Sex').size()\n",
    "print(Survived)\n",
    "print(Total)\n",
    "print(round(Survived['Survived']/Total, 2))"
   ]
  },
  {
   "cell_type": "code",
   "execution_count": 41,
   "metadata": {
    "collapsed": false
   },
   "outputs": [
    {
     "name": "stdout",
     "output_type": "stream",
     "text": [
      "        PassengerId  Survived      Age  SibSp  Parch        Fare\n",
      "Pclass                                                          \n",
      "1             99705       136  7111.42     90     77  18177.4125\n",
      "2             82056        87  5168.83     74     70   3801.8417\n",
      "3            215625       119  8924.92    302    193   6714.6951\n",
      "Pclass\n",
      "1    216\n",
      "2    184\n",
      "3    491\n",
      "dtype: int64\n",
      "Pclass\n",
      "1    0.63\n",
      "2    0.47\n",
      "3    0.24\n",
      "dtype: float64\n"
     ]
    }
   ],
   "source": [
    "#Survived by class\n",
    "Survived_class = train_data.groupby('Pclass').sum()\n",
    "Total_class = train_data.groupby('Pclass').size()\n",
    "print(Survived_class)\n",
    "print(Total_class)\n",
    "print(round(Survived_class['Survived']/Total_class,2))\n"
   ]
  },
  {
   "cell_type": "code",
   "execution_count": 42,
   "metadata": {
    "collapsed": false
   },
   "outputs": [
    {
     "name": "stdout",
     "output_type": "stream",
     "text": [
      "            PassengerId  Survived  Pclass       Age  SibSp  Parch        Fare\n",
      "GroupAge                                                                     \n",
      "Adolescent        46117        37     258   1825.50     45     33   2885.2085\n",
      "Adult            237589       207    1123  18368.00    179    171  19206.4994\n",
      "Children          32938        45     202    439.17    141    103   2458.4917\n",
      "No data           77098        52     460       NaN    100     32   3922.0663\n",
      "Senior             3644         1      14    572.50      1      1    221.6834\n",
      "GroupAge\n",
      "Adolescent    102\n",
      "Adult         527\n",
      "Children       77\n",
      "No data       177\n",
      "Senior          8\n",
      "dtype: int64\n",
      "----------\n",
      "GroupAge\n",
      "Adolescent    0.36\n",
      "Adult         0.39\n",
      "Children      0.58\n",
      "No data       0.29\n",
      "Senior        0.12\n",
      "dtype: float64\n",
      "----------\n"
     ]
    }
   ],
   "source": [
    "# Survived by class of age\n",
    "# Let's divide the people in classes of age: children (under 14), adolescent(14-20), adult(21-65), senior(65+)\n",
    "def group_age(value):\n",
    "    if value <= 14:\n",
    "        return \"Children\"\n",
    "    elif value <= 20:\n",
    "        return \"Adolescent\"\n",
    "    elif value <= 65:\n",
    "        return \"Adult\"\n",
    "    elif value <= 100:\n",
    "        return \"Senior\"\n",
    "    else:\n",
    "        return \"No data\"\n",
    "    \n",
    "train_data['GroupAge'] = train_data['Age'].apply(group_age)\n",
    "\n",
    "Survived_groupAge = train_data.groupby('GroupAge').sum()\n",
    "Total_groupAge = train_data.groupby('GroupAge').size()\n",
    "print(Survived_groupAge)\n",
    "print(Total_groupAge)\n",
    "print('----------')\n",
    "print(round(Survived_groupAge['Survived']/Total_groupAge, 2))\n",
    "print('----------')\n"
   ]
  },
  {
   "cell_type": "code",
   "execution_count": 43,
   "metadata": {
    "collapsed": false
   },
   "outputs": [
    {
     "name": "stdout",
     "output_type": "stream",
     "text": [
      "                   PassengerId  Survived      Age  SibSp  Parch        Fare\n",
      "Pclass GroupAge                                                            \n",
      "1      Adolescent         8219        13   281.00     11     13   1813.9125\n",
      "       Adult             73821       104  6506.50     68     52  13736.8251\n",
      "       Children           2289         4    31.92      4     10    624.9583\n",
      "       No data           13408        14      NaN      6      1   1816.5582\n",
      "       Senior             1968         1   292.00      1      1    185.1584\n",
      "2      Adolescent         6476         7   288.00      2      4    327.2500\n",
      "       Adult             62047        57  4658.50     57     42   2828.1750\n",
      "       Children           8128        19    86.33     15     24    538.1542\n",
      "       No data            4698         4      NaN      0      0     87.2625\n",
      "       Senior              707         0   136.00      0      0     21.0000\n",
      "3      Adolescent        31422        17  1256.50     32     16    744.0460\n",
      "       Adult            101721        46  7203.00     54     77   2641.4993\n",
      "       Children          22521        22   320.92    122     69   1295.3792\n",
      "       No data           58992        34      NaN     94     31   2018.2456\n",
      "       Senior              969         0   144.50      0      0     15.5250\n"
     ]
    }
   ],
   "source": [
    "print(train_data.groupby(['Pclass', 'GroupAge']).sum())"
   ]
  },
  {
   "cell_type": "code",
   "execution_count": 44,
   "metadata": {
    "collapsed": false
   },
   "outputs": [
    {
     "name": "stdout",
     "output_type": "stream",
     "text": [
      "681\n",
      "891\n"
     ]
    }
   ],
   "source": [
    "number_of_ticket = train_data['Ticket'].drop_duplicates().tolist()\n",
    "print(len(number_of_ticket))\n",
    "print(len(train_data['Ticket']))\n",
    "# there are some duplicate tickets, why?"
   ]
  },
  {
   "cell_type": "markdown",
   "metadata": {},
   "source": [
    "# 2) Data visualization"
   ]
  },
  {
   "cell_type": "code",
   "execution_count": 45,
   "metadata": {
    "collapsed": false
   },
   "outputs": [],
   "source": [
    "%matplotlib inline\n",
    "import matplotlib.pyplot as plt\n",
    "import seaborn as sns"
   ]
  },
  {
   "cell_type": "code",
   "execution_count": 46,
   "metadata": {
    "collapsed": false
   },
   "outputs": [
    {
     "data": {
      "text/html": [
       "\n",
       "    <div class=\"bk-root\">\n",
       "        <a href=\"http://bokeh.pydata.org\" target=\"_blank\" class=\"bk-logo bk-logo-small bk-logo-notebook\"></a>\n",
       "        <span id=\"6a412337-f227-47f2-bd5d-15d7caa82dfb\">Loading BokehJS ...</span>\n",
       "    </div>"
      ]
     },
     "metadata": {},
     "output_type": "display_data"
    },
    {
     "data": {
      "application/javascript": [
       "\n",
       "(function(global) {\n",
       "  function now() {\n",
       "    return new Date();\n",
       "  }\n",
       "\n",
       "  var force = \"1\";\n",
       "\n",
       "  if (typeof (window._bokeh_onload_callbacks) === \"undefined\" || force !== \"\") {\n",
       "    window._bokeh_onload_callbacks = [];\n",
       "    window._bokeh_is_loading = undefined;\n",
       "  }\n",
       "\n",
       "\n",
       "  \n",
       "  if (typeof (window._bokeh_timeout) === \"undefined\" || force !== \"\") {\n",
       "    window._bokeh_timeout = Date.now() + 5000;\n",
       "    window._bokeh_failed_load = false;\n",
       "  }\n",
       "\n",
       "  var NB_LOAD_WARNING = {'data': {'text/html':\n",
       "     \"<div style='background-color: #fdd'>\\n\"+\n",
       "     \"<p>\\n\"+\n",
       "     \"BokehJS does not appear to have successfully loaded. If loading BokehJS from CDN, this \\n\"+\n",
       "     \"may be due to a slow or bad network connection. Possible fixes:\\n\"+\n",
       "     \"</p>\\n\"+\n",
       "     \"<ul>\\n\"+\n",
       "     \"<li>re-rerun `output_notebook()` to attempt to load from CDN again, or</li>\\n\"+\n",
       "     \"<li>use INLINE resources instead, as so:</li>\\n\"+\n",
       "     \"</ul>\\n\"+\n",
       "     \"<code>\\n\"+\n",
       "     \"from bokeh.resources import INLINE\\n\"+\n",
       "     \"output_notebook(resources=INLINE)\\n\"+\n",
       "     \"</code>\\n\"+\n",
       "     \"</div>\"}};\n",
       "\n",
       "  function display_loaded() {\n",
       "    if (window.Bokeh !== undefined) {\n",
       "      Bokeh.$(\"#6a412337-f227-47f2-bd5d-15d7caa82dfb\").text(\"BokehJS successfully loaded.\");\n",
       "    } else if (Date.now() < window._bokeh_timeout) {\n",
       "      setTimeout(display_loaded, 100)\n",
       "    }\n",
       "  }\n",
       "\n",
       "  function run_callbacks() {\n",
       "    window._bokeh_onload_callbacks.forEach(function(callback) { callback() });\n",
       "    delete window._bokeh_onload_callbacks\n",
       "    console.info(\"Bokeh: all callbacks have finished\");\n",
       "  }\n",
       "\n",
       "  function load_libs(js_urls, callback) {\n",
       "    window._bokeh_onload_callbacks.push(callback);\n",
       "    if (window._bokeh_is_loading > 0) {\n",
       "      console.log(\"Bokeh: BokehJS is being loaded, scheduling callback at\", now());\n",
       "      return null;\n",
       "    }\n",
       "    if (js_urls == null || js_urls.length === 0) {\n",
       "      run_callbacks();\n",
       "      return null;\n",
       "    }\n",
       "    console.log(\"Bokeh: BokehJS not loaded, scheduling load and callback at\", now());\n",
       "    window._bokeh_is_loading = js_urls.length;\n",
       "    for (var i = 0; i < js_urls.length; i++) {\n",
       "      var url = js_urls[i];\n",
       "      var s = document.createElement('script');\n",
       "      s.src = url;\n",
       "      s.async = false;\n",
       "      s.onreadystatechange = s.onload = function() {\n",
       "        window._bokeh_is_loading--;\n",
       "        if (window._bokeh_is_loading === 0) {\n",
       "          console.log(\"Bokeh: all BokehJS libraries loaded\");\n",
       "          run_callbacks()\n",
       "        }\n",
       "      };\n",
       "      s.onerror = function() {\n",
       "        console.warn(\"failed to load library \" + url);\n",
       "      };\n",
       "      console.log(\"Bokeh: injecting script tag for BokehJS library: \", url);\n",
       "      document.getElementsByTagName(\"head\")[0].appendChild(s);\n",
       "    }\n",
       "  };var element = document.getElementById(\"6a412337-f227-47f2-bd5d-15d7caa82dfb\");\n",
       "  if (element == null) {\n",
       "    console.log(\"Bokeh: ERROR: autoload.js configured with elementid '6a412337-f227-47f2-bd5d-15d7caa82dfb' but no matching script tag was found. \")\n",
       "    return false;\n",
       "  }\n",
       "\n",
       "  var js_urls = ['https://cdn.pydata.org/bokeh/release/bokeh-0.12.2.min.js', 'https://cdn.pydata.org/bokeh/release/bokeh-widgets-0.12.2.min.js', 'https://cdn.pydata.org/bokeh/release/bokeh-compiler-0.12.2.min.js'];\n",
       "\n",
       "  var inline_js = [\n",
       "    function(Bokeh) {\n",
       "      Bokeh.set_log_level(\"info\");\n",
       "    },\n",
       "    \n",
       "    function(Bokeh) {\n",
       "      \n",
       "      Bokeh.$(\"#6a412337-f227-47f2-bd5d-15d7caa82dfb\").text(\"BokehJS is loading...\");\n",
       "    },\n",
       "    function(Bokeh) {\n",
       "      console.log(\"Bokeh: injecting CSS: https://cdn.pydata.org/bokeh/release/bokeh-0.12.2.min.css\");\n",
       "      Bokeh.embed.inject_css(\"https://cdn.pydata.org/bokeh/release/bokeh-0.12.2.min.css\");\n",
       "      console.log(\"Bokeh: injecting CSS: https://cdn.pydata.org/bokeh/release/bokeh-widgets-0.12.2.min.css\");\n",
       "      Bokeh.embed.inject_css(\"https://cdn.pydata.org/bokeh/release/bokeh-widgets-0.12.2.min.css\");\n",
       "    }\n",
       "  ];\n",
       "\n",
       "  function run_inline_js() {\n",
       "    \n",
       "    if ((window.Bokeh !== undefined) || (force === \"1\")) {\n",
       "      for (var i = 0; i < inline_js.length; i++) {\n",
       "        inline_js[i](window.Bokeh);\n",
       "      }if (force === \"1\") {\n",
       "        display_loaded();\n",
       "      }} else if (Date.now() < window._bokeh_timeout) {\n",
       "      setTimeout(run_inline_js, 100);\n",
       "    } else if (!window._bokeh_failed_load) {\n",
       "      console.log(\"Bokeh: BokehJS failed to load within specified timeout.\");\n",
       "      window._bokeh_failed_load = true;\n",
       "    } else if (!force) {\n",
       "      var cell = $(\"#6a412337-f227-47f2-bd5d-15d7caa82dfb\").parents('.cell').data().cell;\n",
       "      cell.output_area.append_execute_result(NB_LOAD_WARNING)\n",
       "    }\n",
       "\n",
       "  }\n",
       "\n",
       "  if (window._bokeh_is_loading === 0) {\n",
       "    console.log(\"Bokeh: BokehJS loaded, going straight to plotting\");\n",
       "    run_inline_js();\n",
       "  } else {\n",
       "    load_libs(js_urls, function() {\n",
       "      console.log(\"Bokeh: BokehJS plotting callback run at\", now());\n",
       "      run_inline_js();\n",
       "    });\n",
       "  }\n",
       "}(this));"
      ]
     },
     "metadata": {},
     "output_type": "display_data"
    }
   ],
   "source": [
    "from bokeh.charts import Bar, show\n",
    "from bokeh.charts.attributes import cat, color\n",
    "from bokeh.charts.operations import blend\n",
    "from bokeh.io import output_notebook\n",
    "output_notebook()"
   ]
  },
  {
   "cell_type": "code",
   "execution_count": 47,
   "metadata": {
    "collapsed": false
   },
   "outputs": [
    {
     "name": "stdout",
     "output_type": "stream",
     "text": [
      "Sex\n",
      "female    314\n",
      "male      577\n",
      "dtype: int64\n",
      "Sex\n",
      "female    233\n",
      "male      109\n",
      "Name: Survived, dtype: int64\n"
     ]
    },
    {
     "data": {
      "image/png": "[encoded data removed]",
      "text/plain": [
       "<matplotlib.figure.Figure at 0x1e2c79f9da0>"
      ]
     },
     "metadata": {},
     "output_type": "display_data"
    }
   ],
   "source": [
    "print(train_data.groupby('Sex').size())\n",
    "print(train_data.groupby('Sex')['Survived'].sum())\n",
    "\n",
    "train_data.groupby('Sex')['Survived'].sum().plot(kind='barh')\n",
    "train_data.groupby('Sex').size().plot(kind='barh', alpha=0.5)\n",
    "\n",
    "plt.show()\n"
   ]
  },
  {
   "cell_type": "markdown",
   "metadata": {},
   "source": [
    "Being a female help out"
   ]
  },
  {
   "cell_type": "code",
   "execution_count": 48,
   "metadata": {
    "collapsed": false,
    "scrolled": true
   },
   "outputs": [
    {
     "name": "stdout",
     "output_type": "stream",
     "text": [
      "Pclass\n",
      "1    216\n",
      "2    184\n",
      "3    491\n",
      "dtype: int64\n",
      "Pclass\n",
      "1    136\n",
      "2     87\n",
      "3    119\n",
      "Name: Survived, dtype: int64\n"
     ]
    },
    {
     "data": {
      "image/png": "[encoded data removed]",
      "text/plain": [
       "<matplotlib.figure.Figure at 0x1e2c6e35080>"
      ]
     },
     "metadata": {},
     "output_type": "display_data"
    }
   ],
   "source": [
    "# Visualization per Pclass\n",
    "print(train_data.groupby('Pclass').size())\n",
    "print(train_data.groupby('Pclass')['Survived'].sum())\n",
    "\n",
    "train_data.groupby('Pclass')['Survived'].sum().plot(kind='barh')\n",
    "train_data.groupby('Pclass').size().plot(kind='barh', alpha=0.5)\n",
    "plt.show()\n"
   ]
  },
  {
   "cell_type": "markdown",
   "metadata": {},
   "source": [
    "being in the first class increase by a lot the chances of surviving, let's dive in to see the percentage of female and male in their respective class"
   ]
  },
  {
   "cell_type": "code",
   "execution_count": 49,
   "metadata": {
    "collapsed": false,
    "scrolled": true
   },
   "outputs": [
    {
     "name": "stdout",
     "output_type": "stream",
     "text": [
      "GroupAge\n",
      "Adolescent     37\n",
      "Adult         207\n",
      "Children       45\n",
      "No data        52\n",
      "Senior          1\n",
      "Name: Survived, dtype: int64\n",
      "GroupAge\n",
      "Adolescent    102\n",
      "Adult         527\n",
      "Children       77\n",
      "No data       177\n",
      "Senior          8\n",
      "dtype: int64\n"
     ]
    },
    {
     "data": {
      "image/png": "[encoded data removed]",
      "text/plain": [
       "<matplotlib.figure.Figure at 0x1e2c728b240>"
      ]
     },
     "metadata": {},
     "output_type": "display_data"
    }
   ],
   "source": [
    "# Visualization per age group\n",
    "\n",
    "print(train_data.groupby('GroupAge')['Survived'].sum())\n",
    "print(train_data.groupby('GroupAge').size())\n",
    "\n",
    "train_data.groupby('GroupAge')['Survived'].sum().plot(kind='barh')\n",
    "train_data.groupby('GroupAge').size().plot(kind='barh', alpha=0.5)\n",
    "\n",
    "plt.show()"
   ]
  },
  {
   "cell_type": "code",
   "execution_count": 50,
   "metadata": {
    "collapsed": false
   },
   "outputs": [
    {
     "name": "stdout",
     "output_type": "stream",
     "text": [
      "Pclass  Sex   \n",
      "1       female    0.968085\n",
      "        male      0.368852\n",
      "2       female    0.921053\n",
      "        male      0.157407\n",
      "3       female    0.500000\n",
      "        male      0.135447\n",
      "Name: Survived, dtype: float64\n"
     ]
    }
   ],
   "source": [
    "print(train_data.groupby(['Pclass', 'Sex'])['Survived'].mean())"
   ]
  },
  {
   "cell_type": "markdown",
   "metadata": {},
   "source": [
    "As you can see you really wanted to be in the first class cabin and female, however also being in the third class cabin and female won't be bad as you would have 50% chance of surviving"
   ]
  },
  {
   "cell_type": "markdown",
   "metadata": {},
   "source": [
    "# 3) Feature Engineering"
   ]
  },
  {
   "cell_type": "markdown",
   "metadata": {},
   "source": [
    "I'll combine the 'SibSp' and 'Parch' datapoints into a 'Family' indicator. The goal here would be to identify if having a family on board made you more or less likely to survive."
   ]
  },
  {
   "cell_type": "code",
   "execution_count": 51,
   "metadata": {
    "collapsed": false
   },
   "outputs": [],
   "source": [
    "train_data['Family'] = train_data['SibSp'] + train_data['Parch']\n",
    "test_data['Family'] =  test_data['SibSp'] + test_data['Parch']\n",
    "\n",
    "# Now that we have the family column let's make it a dummy variable whether a person was alone or with a family, logically\n",
    "# being with your family should increase your chances of surviving at the sinking because of a common sense of taking care\n",
    "\n",
    "train_data.loc[train_data['Family'] >= 1, 'Family'] = 1\n",
    "test_data.loc[test_data['Family'] >= 1, 'Family'] = 1"
   ]
  },
  {
   "cell_type": "code",
   "execution_count": 52,
   "metadata": {
    "collapsed": false,
    "scrolled": false
   },
   "outputs": [
    {
     "name": "stdout",
     "output_type": "stream",
     "text": [
      "Family\n",
      "0    163\n",
      "1    179\n",
      "Name: Survived, dtype: int64\n",
      "Family\n",
      "0    537\n",
      "1    354\n",
      "dtype: int64\n",
      "Family\n",
      "0    0.30\n",
      "1    0.51\n",
      "dtype: float64\n"
     ]
    },
    {
     "data": {
      "image/png": "[encoded data removed]",
      "text/plain": [
       "<matplotlib.figure.Figure at 0x1e2c7213a90>"
      ]
     },
     "metadata": {},
     "output_type": "display_data"
    }
   ],
   "source": [
    "# let's test the hypothesis that being with the family would increase your chance of surviving\n",
    "train_data.groupby('Family')['Survived'].sum().plot(kind='bar')\n",
    "train_data.groupby('Family').size().plot(kind='bar', alpha=0.5)\n",
    "\n",
    "survived = train_data.groupby('Family')['Survived'].sum()\n",
    "total = train_data.groupby('Family').size()\n",
    "print(train_data.groupby('Family')['Survived'].sum())\n",
    "print(train_data.groupby('Family').size())\n",
    "print(round(survived/total, 2))"
   ]
  },
  {
   "cell_type": "markdown",
   "metadata": {},
   "source": [
    "As we can see 50% of the persons having a family survived, let's dive in and see how many males with a family survived"
   ]
  },
  {
   "cell_type": "code",
   "execution_count": 53,
   "metadata": {
    "collapsed": false
   },
   "outputs": [
    {
     "data": {
      "text/plain": [
       "Family  Sex   \n",
       "0       female    0.79\n",
       "        male      0.16\n",
       "1       female    0.71\n",
       "        male      0.27\n",
       "Name: Survived, dtype: float64"
      ]
     },
     "execution_count": 53,
     "metadata": {},
     "output_type": "execute_result"
    }
   ],
   "source": [
    "round(train_data.groupby(['Family', 'Sex'])['Survived'].mean(), 2)"
   ]
  },
  {
   "cell_type": "markdown",
   "metadata": {},
   "source": [
    "27% of males with a family survived against the 16% of the males without a family survived"
   ]
  },
  {
   "cell_type": "code",
   "execution_count": 54,
   "metadata": {
    "collapsed": false
   },
   "outputs": [],
   "source": [
    "# Make sex a dummy variable, male=0 and female=1\n",
    "train_data.loc[train_data['Sex'] == 'male', 'Sex'] = 0\n",
    "train_data.loc[train_data['Sex'] == 'female', 'Sex'] = 1\n",
    "test_data.loc[test_data['Sex'] == 'male', 'Sex'] = 0\n",
    "test_data.loc[test_data['Sex'] == 'female', 'Sex'] = 1"
   ]
  },
  {
   "cell_type": "markdown",
   "metadata": {},
   "source": [
    "Now I have to fill the NA data. The age data will be filled with the median, even though a deeper analysis could lead to a better fill in"
   ]
  },
  {
   "cell_type": "code",
   "execution_count": 55,
   "metadata": {
    "collapsed": false
   },
   "outputs": [
    {
     "name": "stdout",
     "output_type": "stream",
     "text": [
      "PassengerId      0\n",
      "Survived         0\n",
      "Pclass           0\n",
      "Name             0\n",
      "Sex              0\n",
      "Age              0\n",
      "SibSp            0\n",
      "Parch            0\n",
      "Ticket           0\n",
      "Fare             0\n",
      "Cabin          687\n",
      "Embarked         2\n",
      "GroupAge         0\n",
      "Family           0\n",
      "dtype: int64\n",
      "--------\n",
      "PassengerId      0\n",
      "Pclass           0\n",
      "Name             0\n",
      "Sex              0\n",
      "Age              0\n",
      "SibSp            0\n",
      "Parch            0\n",
      "Ticket           0\n",
      "Fare             1\n",
      "Cabin          327\n",
      "Embarked         0\n",
      "Family           0\n",
      "dtype: int64\n"
     ]
    }
   ],
   "source": [
    "train_data['Age'].fillna(train_data['Age'].median(), inplace=True)\n",
    "print(train_data.isnull().sum())\n",
    "test_data['Age'].fillna(test_data['Age'].median(), inplace=True)\n",
    "print('--------')\n",
    "print(test_data.isnull().sum())"
   ]
  },
  {
   "cell_type": "code",
   "execution_count": 87,
   "metadata": {
    "collapsed": false
   },
   "outputs": [],
   "source": [
    "train_data['Fare'].fillna(train_data['Fare'].median(), inplace=True)\n",
    "test_data['Fare'].fillna(test_data['Fare'].median(), inplace=True)"
   ]
  },
  {
   "cell_type": "markdown",
   "metadata": {},
   "source": [
    "# 4) Machine learning"
   ]
  },
  {
   "cell_type": "code",
   "execution_count": 105,
   "metadata": {
    "collapsed": false
   },
   "outputs": [],
   "source": [
    "# Load the library\n",
    "from sklearn import linear_model\n",
    "from sklearn import tree\n",
    "from sklearn.ensemble import RandomForestClassifier\n",
    "from sklearn.model_selection import cross_val_score"
   ]
  },
  {
   "cell_type": "code",
   "execution_count": 106,
   "metadata": {
    "collapsed": false,
    "scrolled": true
   },
   "outputs": [],
   "source": [
    "# Feature\n",
    "X = train_data.loc[:, ('Pclass', 'Age', 'Sex', 'Family', 'SibSp', 'Parch', 'Fare')]\n",
    "# Label\n",
    "y = train_data.loc[:, 'Survived']\n",
    "#X.isnull().sum()\n",
    "#X['Sex'] = X['Sex'].map( {'female': 0, 'male': 1} ).astype(int)    "
   ]
  },
  {
   "cell_type": "code",
   "execution_count": 107,
   "metadata": {
    "collapsed": false
   },
   "outputs": [
    {
     "name": "stdout",
     "output_type": "stream",
     "text": [
      "0.802469135802\n",
      "-----------\n",
      "0.921436588103\n",
      "-----------\n",
      "[ 0.75555556  0.8         0.75280899  0.93258427  0.87640449  0.84269663\n",
      "  0.84269663  0.78651685  0.84269663  0.85227273]\n",
      "0.828423277721\n"
     ]
    }
   ],
   "source": [
    "# creation of the logistic function\n",
    "logistic = linear_model.LogisticRegression()\n",
    "logistic.fit(X, y)\n",
    "Z = logistic.predict(X)\n",
    "print(logistic.score(X, y))\n",
    "print('-----------')\n",
    "\n",
    "tree = tree.DecisionTreeClassifier(min_samples_split=10)\n",
    "tree = tree.fit(X, y)\n",
    "y_tree = tree.predict(X)\n",
    "print(tree.score(X, y))\n",
    "print('-----------')\n",
    "\n",
    "forest = RandomForestClassifier(n_estimators=50, max_depth=9, \n",
    "        min_samples_split=7, min_samples_leaf=2)\n",
    "\n",
    "scores = cross_val_score(forest, X, y, cv=10, scoring='accuracy')\n",
    "print(scores)\n",
    "\n",
    "# use average accuracy as an estimate of out-of-sample accuracy\n",
    "print(scores.mean())"
   ]
  },
  {
   "cell_type": "code",
   "execution_count": 109,
   "metadata": {
    "collapsed": false
   },
   "outputs": [],
   "source": [
    "X_test = test_data.loc[:, ('Pclass', 'Age', 'Sex', 'Family', 'SibSp', 'Parch', 'Fare')]\n",
    "forest.fit(X, y)\n",
    "pred = forest.predict(X_test)"
   ]
  },
  {
   "cell_type": "code",
   "execution_count": 112,
   "metadata": {
    "collapsed": false
   },
   "outputs": [],
   "source": [
    "# Create a new dataframe with only the columns Kaggle wants from the dataset.\n",
    "submission = pd.DataFrame({\n",
    "        \"PassengerId\": test_data[\"PassengerId\"],\n",
    "        \"Survived\": pred\n",
    "    })\n",
    "submission.to_csv('ForestSub.csv', index=False)"
   ]
  },
  {
   "cell_type": "code",
   "execution_count": 113,
   "metadata": {
    "collapsed": false
   },
   "outputs": [
    {
     "data": {
      "text/plain": [
       "(418, 2)"
      ]
     },
     "execution_count": 113,
     "metadata": {},
     "output_type": "execute_result"
    }
   ],
   "source": [
    "submission.shape"
   ]
  }
 ],
 "metadata": {
  "anaconda-cloud": {},
  "kernelspec": {
   "display_name": "Python [conda root]",
   "language": "python",
   "name": "conda-root-py"
  },
  "language_info": {
   "codemirror_mode": {
    "name": "ipython",
    "version": 3
   },
   "file_extension": ".py",
   "mimetype": "text/x-python",
   "name": "python",
   "nbconvert_exporter": "python",
   "pygments_lexer": "ipython3",
   "version": "3.5.2"
  }
 },
 "nbformat": 4,
 "nbformat_minor": 1
}
